{
 "cells": [
  {
   "cell_type": "code",
   "execution_count": 6,
   "id": "32e4d024",
   "metadata": {},
   "outputs": [],
   "source": [
    "import pytablewriter\n",
    "import numpy as np\n",
    "import wordle\n",
    "from inf_player import InfPlayer\n",
    "import random\n",
    "import sys\n",
    "from datetime import datetime\n",
    "import itertools\n",
    "import pandas as pd\n",
    "import json"
   ]
  },
  {
   "cell_type": "code",
   "execution_count": 5,
   "id": "2731d5ce",
   "metadata": {},
   "outputs": [
    {
     "name": "stdout",
     "output_type": "stream",
     "text": [
      "There are 2309 valid guesses, and 12974 possible words\n"
     ]
    }
   ],
   "source": [
    "game = wordle.Game()\n",
    "player = InfPlayer(game)\n",
    "# pd.DataFrame(player.calc_distributions_and_entropy(player.actual_possibilities)).sort_values(by=\"entropy\",ascending=False)"
   ]
  },
  {
   "cell_type": "code",
   "execution_count": null,
   "id": "110701f1",
   "metadata": {},
   "outputs": [],
   "source": []
  }
 ],
 "metadata": {
  "kernelspec": {
   "display_name": "Python 3 (ipykernel)",
   "language": "python",
   "name": "python3"
  },
  "language_info": {
   "codemirror_mode": {
    "name": "ipython",
    "version": 3
   },
   "file_extension": ".py",
   "mimetype": "text/x-python",
   "name": "python",
   "nbconvert_exporter": "python",
   "pygments_lexer": "ipython3",
   "version": "3.11.3"
  }
 },
 "nbformat": 4,
 "nbformat_minor": 5
}
