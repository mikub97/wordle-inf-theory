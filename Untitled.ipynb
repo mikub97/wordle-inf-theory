{
 "cells": [
  {
   "cell_type": "code",
   "execution_count": 1,
   "id": "32e4d024",
   "metadata": {},
   "outputs": [],
   "source": [
    "import pytablewriter\n",
    "import numpy as np\n",
    "import wordle\n",
    "from inf_player import InfPlayer\n",
    "import random\n",
    "import sys\n",
    "from datetime import datetime\n",
    "import itertools\n",
    "import pandas as pd\n",
    "import json\n",
    "from wordle import LetterStates"
   ]
  },
  {
   "cell_type": "code",
   "execution_count": 13,
   "id": "2731d5ce",
   "metadata": {},
   "outputs": [
    {
     "name": "stdout",
     "output_type": "stream",
     "text": [
      "There are 2309 valid solutions , and 12974 valid guesses\n"
     ]
    }
   ],
   "source": [
    "game = wordle.Game()\n",
    "player = InfPlayer(game)\n",
    "# pd.DataFrame(player.calc_distributions_and_entropy(player.actual_possibilities)).sort_values(by=\"entropy\",ascending=False)"
   ]
  },
  {
   "cell_type": "code",
   "execution_count": 14,
   "id": "110701f1",
   "metadata": {},
   "outputs": [
    {
     "data": {
      "text/plain": [
       "1"
      ]
     },
     "execution_count": 14,
     "metadata": {},
     "output_type": "execute_result"
    }
   ],
   "source": []
  },
  {
   "cell_type": "code",
   "execution_count": 37,
   "id": "acb14638",
   "metadata": {},
   "outputs": [
    {
     "name": "stdout",
     "output_type": "stream",
     "text": [
      "4.288743751923732\n"
     ]
    },
    {
     "data": {
      "text/plain": [
       "<BarContainer object of 243 artists>"
      ]
     },
     "execution_count": 37,
     "metadata": {},
     "output_type": "execute_result"
    },
    {
     "data": {
      "image/png": "[encoded data removed]",
      "text/plain": [
       "<Figure size 640x480 with 1 Axes>"
      ]
     },
     "metadata": {},
     "output_type": "display_data"
    }
   ],
   "source": [
    "perm = list(itertools.product([\n",
    "            wordle.LetterStates.CORRECTPOSITION,\n",
    "            wordle.LetterStates.NOTPRESENT,\n",
    "            wordle.LetterStates.INCORRECTPOSITION\n",
    "        ], repeat=5))\n",
    "out = []\n",
    "for p in perm:\n",
    "#     print(p)\n",
    "    out.append(len(player.narrow_guesses((\"GUESS\",p))))\n",
    "out = np.array(out)\n",
    "# out = (np.array([0.1]*8+[0.2]))\n",
    "import matplotlib.pyplot as plt\n",
    "print(player.calc_entropy(out/out.sum()))\n",
    "plt.bar(list(range(len(out))),out)"
   ]
  }
 ],
 "metadata": {
  "kernelspec": {
   "display_name": "Python 3 (ipykernel)",
   "language": "python",
   "name": "python3"
  },
  "language_info": {
   "codemirror_mode": {
    "name": "ipython",
    "version": 3
   },
   "file_extension": ".py",
   "mimetype": "text/x-python",
   "name": "python",
   "nbconvert_exporter": "python",
   "pygments_lexer": "ipython3",
   "version": "3.11.3"
  }
 },
 "nbformat": 4,
 "nbformat_minor": 5
}
